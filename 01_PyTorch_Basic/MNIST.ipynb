{
 "cells": [
  {
   "cell_type": "code",
   "execution_count": 2,
   "metadata": {
    "collapsed": true
   },
   "outputs": [],
   "source": [
    "import torch\n",
    "import torch.nn as nn\n",
    "import torchvision.transforms as transforms\n",
    "import torchvision.datasets as datasets\n",
    "from  torch.autograd import Variable\n",
    "import matplotlib.pyplot as plt\n",
    "import torch\n",
    "torch.cuda.set_device(0)"
   ]
  },
  {
   "cell_type": "markdown",
   "metadata": {},
   "source": [
    "## 使用 Mnist 作為訓練資料"
   ]
  },
  {
   "cell_type": "code",
   "execution_count": 3,
   "metadata": {
    "collapsed": true
   },
   "outputs": [],
   "source": [
    "\n",
    "train_dataset = datasets.MNIST(root='./data',train=True,transform=transforms.ToTensor(),download=True)\n",
    "test_dataset = datasets.MNIST(root='./data',train=False,transform=transforms.ToTensor(),download=True)"
   ]
  },
  {
   "cell_type": "code",
   "execution_count": 8,
   "metadata": {
    "scrolled": true
   },
   "outputs": [
    {
     "name": "stdout",
     "output_type": "stream",
     "text": [
      "train_dataset train_data: torch.Size([60000, 28, 28])\n",
      "train_dataset train_labels: torch.Size([60000])\n",
      "test_dataset test_data: torch.Size([10000, 28, 28])\n",
      "test_dataset test_labes: torch.Size([10000])\n"
     ]
    }
   ],
   "source": [
    "print('train_dataset train_data:',train_dataset.train_data.size())\n",
    "print('train_dataset train_labels:',train_dataset.train_labels.size())\n",
    "print('test_dataset test_data:',test_dataset.test_data.size())\n",
    "print('test_dataset test_labes:',test_dataset.test_labels.size())"
   ]
  },
  {
   "cell_type": "markdown",
   "metadata": {},
   "source": [
    "## 設定參數跟網路"
   ]
  },
  {
   "cell_type": "code",
   "execution_count": 11,
   "metadata": {
    "collapsed": true
   },
   "outputs": [],
   "source": [
    "batch_size = 100 # 一組100個\n",
    "n_iters = 3000 # 訓練總數3000次\n",
    "\n",
    "# 計算訓練週期  總次數/(總資料數量/每次訓練資料數)\n",
    "num_epochs = n_iters / (len(train_dataset)/batch_size) \n",
    "num_epochs = int(num_epochs) # 這裡可簡單算出訓練週期為5"
   ]
  },
  {
   "cell_type": "code",
   "execution_count": 12,
   "metadata": {
    "collapsed": true
   },
   "outputs": [],
   "source": [
    "train_loader = torch.utils.data.DataLoader(dataset = train_dataset,batch_size=batch_size,shuffle=True)\n",
    "test_loader = torch.utils.data.DataLoader(dataset = test_dataset,batch_size=batch_size,shuffle=True)"
   ]
  },
  {
   "cell_type": "code",
   "execution_count": 34,
   "metadata": {
    "collapsed": true
   },
   "outputs": [],
   "source": [
    "class CNNModel(nn.Module):\n",
    "    def __init__(self):\n",
    "        super(CNNModel,self).__init__()\n",
    "        # conv1 (1,28,28)\n",
    "        self.conv1 = nn.Conv2d(in_channels=1,out_channels=16,kernel_size=5,stride=1,padding=2)\n",
    "        self.relu1 = nn.ReLU() # (16,28,28) 28+4-5+1  pad=2,ke=5,中心\n",
    "        # max 1 \n",
    "        self.maxpool1 = nn.MaxPool2d(kernel_size=2) # ((16,14,14))\n",
    "        \n",
    "        self.conv2 = nn.Conv2d(in_channels=16,out_channels=32,kernel_size=5,stride=1,padding=2)\n",
    "        self.relu2 =nn.ReLU() # (32,14,14) 14+4-5+1\n",
    "        \n",
    "        self.maxpool2 = nn.MaxPool2d(kernel_size=2) # (32,7,7)\n",
    "        \n",
    "        # fully connected layer\n",
    "        self.fc1 = nn.Linear(32*7*7,10)\n",
    "    def forward(self,x):\n",
    "        # conv 1\n",
    "        x = self.conv1(x)\n",
    "        x = self.relu1(x)\n",
    "        x = self.maxpool1(x)\n",
    "\n",
    "        # conv 2\n",
    "        x = self.conv2(x)\n",
    "        x = self.relu2(x)\n",
    "        x = self.maxpool2(x)\n",
    "\n",
    "        # flatten\n",
    "        x = x.view(x.size(0),-1) # x.size(0)好像指的是600個batch\n",
    "        out = self.fc1(x)\n",
    "\n",
    "        return out"
   ]
  },
  {
   "cell_type": "code",
   "execution_count": 35,
   "metadata": {
    "collapsed": true
   },
   "outputs": [],
   "source": [
    "model = CNNModel()\n",
    "loss_func = nn.CrossEntropyLoss()\n",
    "learning_rate = 0.01\n",
    "optimizer = torch.optim.SGD(model.parameters(),lr=learning_rate)"
   ]
  },
  {
   "cell_type": "markdown",
   "metadata": {},
   "source": [
    "## 訓練"
   ]
  },
  {
   "cell_type": "code",
   "execution_count": 39,
   "metadata": {
    "scrolled": true
   },
   "outputs": [
    {
     "name": "stdout",
     "output_type": "stream",
     "text": [
      "Iteration: 500. Loss: 0.09691331535577774. Accuracy:95.99\n",
      "Iteration: 1000. Loss: 0.16378647089004517. Accuracy:96.72\n",
      "Iteration: 1500. Loss: 0.0893184021115303. Accuracy:96.96\n",
      "Iteration: 2000. Loss: 0.05155602842569351. Accuracy:97.02\n",
      "Iteration: 2500. Loss: 0.09618135541677475. Accuracy:97.49\n",
      "Iteration: 3000. Loss: 0.09384986013174057. Accuracy:97.71\n"
     ]
    }
   ],
   "source": [
    "iters = 0 \n",
    "for epoch in range(num_epochs):\n",
    "    for i, (images,labels) in enumerate(train_loader):\n",
    "        # convert tensor to Variable\n",
    "        images = Variable(images)\n",
    "        labels = Variable(labels)\n",
    "        \n",
    "        # clear gradient w.r.t parameters\n",
    "        optimizer.zero_grad() # 這邊要歸零 不然重新做會影響下次計算\n",
    "        \n",
    "        # forward pass\n",
    "        outputs = model(images)\n",
    "        \n",
    "        # caclculate loss\n",
    "        loss = loss_func(outputs,labels)\n",
    "        \n",
    "        # get gradient w.r.t parameters\n",
    "        loss.backward()\n",
    "        \n",
    "        # update parameters\n",
    "        optimizer.step()\n",
    "        \n",
    "        iters += 1\n",
    "        \n",
    "        if iters % 500 == 0:\n",
    "            correct = 0\n",
    "            total = 0\n",
    "            for images, labels in test_loader:\n",
    "                images = Variable(images)\n",
    "                # predict with current weights \n",
    "                outputs = model(images)\n",
    "                # get prediction via via max-value\n",
    "                _,predicted = torch.max(outputs.data,1)\n",
    "                \n",
    "                total += labels.size(0)\n",
    "                correct += (predicted == labels).sum()\n",
    "                \n",
    "            accuracy = 100 * correct / total\n",
    "            print(\"Iteration: {}. Loss: {}. Accuracy:{}\".format(iters,loss.data[0],accuracy))\n",
    "            \n"
   ]
  },
  {
   "cell_type": "markdown",
   "metadata": {},
   "source": [
    "## 觀看結果"
   ]
  },
  {
   "cell_type": "code",
   "execution_count": 42,
   "metadata": {
    "scrolled": false
   },
   "outputs": [
    {
     "name": "stdout",
     "output_type": "stream",
     "text": [
      "torch.Size([16, 1, 5, 5])\n"
     ]
    },
    {
     "data": {
      "image/png": "[encoded data removed]",
      "text/plain": [
       "<Figure size 432x288 with 17 Axes>"
      ]
     },
     "metadata": {},
     "output_type": "display_data"
    }
   ],
   "source": [
    "# get filters from parameters\n",
    "print(list(model.parameters())[0].size()) # (16,1,5,5)\n",
    "fig = plt.figure()\n",
    "axes = []\n",
    "for i in range(4):\n",
    "    for j in range(4):\n",
    "        ax = plt.subplot2grid((4,4),(i,j),colspan=1,rowspan=1)\n",
    "        axes.append(ax)\n",
    "        \n",
    "for i in range(16):\n",
    "    im = axes[i].imshow(list(model.parameters())[0].data.numpy()[i,0,:,:],cmap='hot')\n",
    "plt.colorbar(im)\n",
    "plt.show()"
   ]
  },
  {
   "cell_type": "code",
   "execution_count": null,
   "metadata": {
    "collapsed": true
   },
   "outputs": [],
   "source": []
  },
  {
   "cell_type": "code",
   "execution_count": null,
   "metadata": {
    "collapsed": true
   },
   "outputs": [],
   "source": []
  }
 ],
 "metadata": {
  "kernelspec": {
   "display_name": "Python 3",
   "language": "python",
   "name": "python3"
  },
  "language_info": {
   "codemirror_mode": {
    "name": "ipython",
    "version": 3
   },
   "file_extension": ".py",
   "mimetype": "text/x-python",
   "name": "python",
   "nbconvert_exporter": "python",
   "pygments_lexer": "ipython3",
   "version": "3.6.3"
  }
 },
 "nbformat": 4,
 "nbformat_minor": 2
}
